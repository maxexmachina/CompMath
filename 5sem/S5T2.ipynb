{
  "nbformat": 4,
  "nbformat_minor": 0,
  "metadata": {
    "kernelspec": {
      "display_name": "Python 3",
      "language": "python",
      "name": "python3"
    },
    "language_info": {
      "codemirror_mode": {
        "name": "ipython",
        "version": 3
      },
      "file_extension": ".py",
      "mimetype": "text/x-python",
      "name": "python",
      "nbconvert_exporter": "python",
      "pygments_lexer": "ipython3",
      "version": "3.7.6"
    },
    "colab": {
      "name": "T2.ipynb",
      "provenance": []
    }
  },
  "cells": [
    {
      "cell_type": "code",
      "metadata": {
        "id": "DE3VOPck2QlS"
      },
      "source": [
        "import numpy as np\n",
        "import pandas as pd"
      ],
      "execution_count": null,
      "outputs": []
    },
    {
      "cell_type": "code",
      "metadata": {
        "id": "XFk8H5-k2QlX",
        "outputId": "8b34bf19-f39d-4307-b2f7-697df1157c19"
      },
      "source": [
        "data = pd.read_csv('data.csv')\n",
        "data"
      ],
      "execution_count": null,
      "outputs": [
        {
          "output_type": "execute_result",
          "data": {
            "text/html": [
              "<div>\n",
              "<style scoped>\n",
              "    .dataframe tbody tr th:only-of-type {\n",
              "        vertical-align: middle;\n",
              "    }\n",
              "\n",
              "    .dataframe tbody tr th {\n",
              "        vertical-align: top;\n",
              "    }\n",
              "\n",
              "    .dataframe thead th {\n",
              "        text-align: right;\n",
              "    }\n",
              "</style>\n",
              "<table border=\"1\" class=\"dataframe\">\n",
              "  <thead>\n",
              "    <tr style=\"text-align: right;\">\n",
              "      <th></th>\n",
              "      <th>year</th>\n",
              "      <th>population</th>\n",
              "    </tr>\n",
              "  </thead>\n",
              "  <tbody>\n",
              "    <tr>\n",
              "      <th>0</th>\n",
              "      <td>1910</td>\n",
              "      <td>92228496</td>\n",
              "    </tr>\n",
              "    <tr>\n",
              "      <th>1</th>\n",
              "      <td>1920</td>\n",
              "      <td>106021537</td>\n",
              "    </tr>\n",
              "    <tr>\n",
              "      <th>2</th>\n",
              "      <td>1930</td>\n",
              "      <td>123202624</td>\n",
              "    </tr>\n",
              "    <tr>\n",
              "      <th>3</th>\n",
              "      <td>1940</td>\n",
              "      <td>132164569</td>\n",
              "    </tr>\n",
              "    <tr>\n",
              "      <th>4</th>\n",
              "      <td>1950</td>\n",
              "      <td>151325798</td>\n",
              "    </tr>\n",
              "    <tr>\n",
              "      <th>5</th>\n",
              "      <td>1960</td>\n",
              "      <td>179323175</td>\n",
              "    </tr>\n",
              "    <tr>\n",
              "      <th>6</th>\n",
              "      <td>1970</td>\n",
              "      <td>203211926</td>\n",
              "    </tr>\n",
              "    <tr>\n",
              "      <th>7</th>\n",
              "      <td>1980</td>\n",
              "      <td>226545805</td>\n",
              "    </tr>\n",
              "    <tr>\n",
              "      <th>8</th>\n",
              "      <td>1990</td>\n",
              "      <td>248709873</td>\n",
              "    </tr>\n",
              "    <tr>\n",
              "      <th>9</th>\n",
              "      <td>2000</td>\n",
              "      <td>281421906</td>\n",
              "    </tr>\n",
              "  </tbody>\n",
              "</table>\n",
              "</div>"
            ],
            "text/plain": [
              "   year  population\n",
              "0  1910    92228496\n",
              "1  1920   106021537\n",
              "2  1930   123202624\n",
              "3  1940   132164569\n",
              "4  1950   151325798\n",
              "5  1960   179323175\n",
              "6  1970   203211926\n",
              "7  1980   226545805\n",
              "8  1990   248709873\n",
              "9  2000   281421906"
            ]
          },
          "metadata": {
            "tags": []
          },
          "execution_count": 2
        }
      ]
    },
    {
      "cell_type": "code",
      "metadata": {
        "id": "r-HZPBOA2QlY"
      },
      "source": [
        "year = data.year\n",
        "pop = data.population\n",
        "target_year = 1950"
      ],
      "execution_count": null,
      "outputs": []
    },
    {
      "cell_type": "code",
      "metadata": {
        "id": "P4H2ayU52QlZ"
      },
      "source": [
        "def derivative(x_dat, y_dat, x, method='undefined_coef'):\n",
        "    x_dat = list(x_dat)\n",
        "    y_dat = list(y_dat)\n",
        "    \n",
        "    if method == 'undefined_coef':\n",
        "        n = len(x_dat)\n",
        "        A = np.ndarray(shape=(n, n))\n",
        "        for i in range(n):\n",
        "            for j in range(n):\n",
        "                A[i,j] = (x_dat[j] - x)**i\n",
        "        b = np.zeros(10)\n",
        "        b[1] = 1\n",
        "        \n",
        "        coefs = np.linalg.solve(A, b)\n",
        "        \n",
        "        res = 0\n",
        "        for i in range(len(coefs)):\n",
        "            res += y_dat[i] * coefs[i]\n",
        "        return res\n",
        "    \n",
        "    if method == 'forward':\n",
        "        i = x_dat.index(x)\n",
        "        return (y_dat[i + 1] - y_dat[i])/(x_dat[i + 1] - x_dat[i])\n",
        "    \n",
        "    if method == 'center':\n",
        "        i = x_dat.index(x)\n",
        "        return (y_dat[i + 1] - y_dat[i - 1])/(x_dat[i + 1] - x_dat[i - 1])\n",
        "    \n",
        "    if method == 'backward':\n",
        "        i = x_dat.index(x)\n",
        "        return (y_dat[i] - y_dat[i - 1])/(x_dat[i] - x_dat[i - 1])"
      ],
      "execution_count": null,
      "outputs": []
    },
    {
      "cell_type": "code",
      "metadata": {
        "id": "_FbozzWF2QlZ",
        "outputId": "8d881e25-5b97-4ded-e35a-8a14d1c4eb51"
      },
      "source": [
        "d1 = derivative(year, pop, 1950, 'undefined_coef')\n",
        "d2 = derivative(year, pop, 1950, 'forward')\n",
        "d3 = derivative(year, pop, 1950, 'center')\n",
        "d4 = derivative(year, pop, 1950, 'backward')\n",
        "print(d1)\n",
        "print(d2)\n",
        "print(d3)\n",
        "print(d4)"
      ],
      "execution_count": null,
      "outputs": [
        {
          "output_type": "stream",
          "text": [
            "2605128.4320145347\n",
            "2799737.7\n",
            "2357930.3\n",
            "1916122.9\n"
          ],
          "name": "stdout"
        }
      ]
    },
    {
      "cell_type": "code",
      "metadata": {
        "id": "DS-jfz1Z2QlZ"
      },
      "source": [
        ""
      ],
      "execution_count": null,
      "outputs": []
    }
  ]
}