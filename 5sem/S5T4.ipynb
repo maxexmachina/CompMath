{
  "nbformat": 4,
  "nbformat_minor": 0,
  "metadata": {
    "colab": {
      "name": "T4.ipynb",
      "provenance": [],
      "collapsed_sections": []
    },
    "kernelspec": {
      "name": "python3",
      "display_name": "Python 3"
    }
  },
  "cells": [
    {
      "cell_type": "code",
      "metadata": {
        "id": "vgt9KudTJ9Ue"
      },
      "source": [
        "import math\n",
        "import numpy as np\n",
        "import matplotlib.pyplot as plt\n",
        "import pandas as pd"
      ],
      "execution_count": null,
      "outputs": []
    },
    {
      "cell_type": "markdown",
      "metadata": {
        "id": "gxYoXl_gqB3h"
      },
      "source": [
        "**Метод пристрелки**"
      ]
    },
    {
      "cell_type": "code",
      "metadata": {
        "id": "M1pwe6qWs8y7"
      },
      "source": [
        "def f(x, y):\n",
        "  return np.array([\n",
        "                   y[1],\n",
        "                   -(x**2 - 3)*y[1] - (x**2 - 3)*math.cos(x)*y[0] + 2 - 6*x + 2*x**3 + (x**2 - 3)*math.exp(x)*(1 + math.cos(x)) + math.cos(x)*(math.exp(x) - 1 + x**4 - 2*x**2)\n",
        "                  ])"
      ],
      "execution_count": null,
      "outputs": []
    },
    {
      "cell_type": "code",
      "metadata": {
        "id": "yWWhf_Cb_QY7"
      },
      "source": [
        "a = 0\n",
        "b = math.pi"
      ],
      "execution_count": null,
      "outputs": []
    },
    {
      "cell_type": "code",
      "metadata": {
        "id": "6n3kZMty_RIk"
      },
      "source": [
        "ya = 0\n",
        "yb = math.pi**2\n",
        "eps = 1e-6"
      ],
      "execution_count": null,
      "outputs": []
    },
    {
      "cell_type": "code",
      "metadata": {
        "id": "6WShBQb2pqKf"
      },
      "source": [
        "tau = 0.01"
      ],
      "execution_count": null,
      "outputs": []
    },
    {
      "cell_type": "code",
      "metadata": {
        "id": "sh3z8yKiuJrs"
      },
      "source": [
        "def rk_solve(a, b, h, y0):\n",
        "\n",
        "  n = int(np.ceil((b-a)/h))\n",
        "  t = np.linspace(a, b, num=n)\n",
        "\n",
        "  y = np.array([np.zeros(n) for i in range(len(y0))])\n",
        "  y[:, 0] = y0\n",
        "\n",
        "  k = np.array([np.zeros(4) for i in range(len(y0))])\n",
        "\n",
        "  for i in range(n - 1):\n",
        "\n",
        "    k[:, 0] = f(t[i], y[:, i])\n",
        "    k[:, 1] = 2 * f(t[i] + h/2, y[:, i] + h/2 * k[:, 0])\n",
        "    k[:, 2] = 2 * f(t[i] + h/2, y[:, i] + h/2 * k[:, 1])\n",
        "    k[:, 3] = f(t[i] + h, y[:, i] + h * k[:, 2])\n",
        "\n",
        "    y[:, i+1] = y[:, i] + 1/6 * h * np.sum(k, axis=1)\n",
        "\n",
        "  return t, y"
      ],
      "execution_count": null,
      "outputs": []
    },
    {
      "cell_type": "code",
      "metadata": {
        "id": "JD40lCog-Kgm"
      },
      "source": [
        "err = lambda y: y - yb"
      ],
      "execution_count": null,
      "outputs": []
    },
    {
      "cell_type": "code",
      "metadata": {
        "id": "3-TvNIouBJlC"
      },
      "source": [
        "def optimise(a1, a2):\n",
        "  t, [y, vy] = rk_solve(a, b, tau, [ya, a1])\n",
        "  prev1 = err(y[-1])\n",
        "  t, [y, vy] = rk_solve(a, b, tau, [ya, a2])\n",
        "  prev2 = err(y[-1])\n",
        "\n",
        "  a3 = 0\n",
        "  while (np.abs(err(y[-1]))) > eps:\n",
        "    a3 = (a1 + a2)/2\n",
        "    t, [y, vy] = rk_solve(a, b, tau, [ya, a3])\n",
        "    cur = err(y[-1])\n",
        "    if cur * prev1 < 0:\n",
        "      prev2 = cur \n",
        "      a2 = a3\n",
        "    else:\n",
        "      prev1 = cur \n",
        "      a1 = a3\n",
        "\n",
        "  return t, y, a3"
      ],
      "execution_count": null,
      "outputs": []
    },
    {
      "cell_type": "code",
      "metadata": {
        "colab": {
          "base_uri": "https://localhost:8080/"
        },
        "id": "ciZrf46HPX6Q",
        "outputId": "6723b481-7fee-48a3-d150-a0b74ac3172b"
      },
      "source": [
        " a1 = 3\n",
        " t, [y, vy] = rk_solve(a, b, tau, [ya, a1])\n",
        " prev1 = err(y[-1])\n",
        " print(prev1)"
      ],
      "execution_count": null,
      "outputs": [
        {
          "output_type": "stream",
          "text": [
            "137.40585898619088\n"
          ],
          "name": "stdout"
        }
      ]
    },
    {
      "cell_type": "code",
      "metadata": {
        "colab": {
          "base_uri": "https://localhost:8080/"
        },
        "id": "W0nJ6JQw9Lp3",
        "outputId": "b6e5ca65-91f3-4f9f-8ab7-e010cbf5d15e"
      },
      "source": [
        " a2 = 0\n",
        " t, [y, vy] = rk_solve(a, b, tau, [ya, a2])\n",
        " prev2 = err(y[-1])\n",
        " print(prev2)"
      ],
      "execution_count": null,
      "outputs": [
        {
          "output_type": "stream",
          "text": [
            "-247.59928222164316\n"
          ],
          "name": "stdout"
        }
      ]
    },
    {
      "cell_type": "code",
      "metadata": {
        "colab": {
          "base_uri": "https://localhost:8080/"
        },
        "id": "GcWgqhfqDhvi",
        "outputId": "3881c5f0-2bd6-47e3-ccf0-f31103c38a71"
      },
      "source": [
        "x, y, alpha = optimise(a1, a2)\n",
        "print(y[-1])\n",
        "print(alpha)"
      ],
      "execution_count": null,
      "outputs": [
        {
          "output_type": "stream",
          "text": [
            "9.86960436931842\n",
            "1.9293192923069\n"
          ],
          "name": "stdout"
        }
      ]
    },
    {
      "cell_type": "code",
      "metadata": {
        "colab": {
          "base_uri": "https://localhost:8080/",
          "height": 282
        },
        "id": "0fzhgOvODsMU",
        "outputId": "272f20a0-8d6a-4783-968f-de16d7b8a79c"
      },
      "source": [
        "plt.plot(x, y)"
      ],
      "execution_count": null,
      "outputs": [
        {
          "output_type": "execute_result",
          "data": {
            "text/plain": [
              "[<matplotlib.lines.Line2D at 0x7fa977c20668>]"
            ]
          },
          "metadata": {
            "tags": []
          },
          "execution_count": 12
        },
        {
          "output_type": "display_data",
          "data": {
            "image/png": "[encoded data removed]",
            "text/plain": [
              "<Figure size 432x288 with 1 Axes>"
            ]
          },
          "metadata": {
            "tags": [],
            "needs_background": "light"
          }
        }
      ]
    },
    {
      "cell_type": "code",
      "metadata": {
        "id": "66mBFGkZ2vA_"
      },
      "source": [
        "def find_val(x, y, point):\n",
        "  dat = {'x': x, 'y': y}\n",
        "  df = pd.DataFrame(data=dat)\n",
        "\n",
        "  return df.iloc[(df['x']-point).abs().argsort()[:1]]"
      ],
      "execution_count": null,
      "outputs": []
    },
    {
      "cell_type": "code",
      "metadata": {
        "colab": {
          "base_uri": "https://localhost:8080/"
        },
        "id": "v0ha_Iq-3Cla",
        "outputId": "c1e09464-8792-45b7-8e72-7be41e0e0ba2"
      },
      "source": [
        "for i in [0.5, 1, 1.5, 2, 2.5, 3]:\n",
        "  print(find_val(x, y, i))"
      ],
      "execution_count": null,
      "outputs": [
        {
          "output_type": "stream",
          "text": [
            "           x        y\n",
            "50  0.500254  1.19911\n",
            "            x         y\n",
            "100  1.000507  2.769559\n",
            "            x         y\n",
            "150  1.500761  4.224841\n",
            "            x         y\n",
            "200  2.001014  5.484949\n",
            "            x         y\n",
            "250  2.501268  7.438121\n",
            "            x         y\n",
            "300  3.001522  9.473135\n"
          ],
          "name": "stdout"
        }
      ]
    },
    {
      "cell_type": "markdown",
      "metadata": {
        "id": "JngZPasXp57q"
      },
      "source": [
        "**Метод прогонки**"
      ]
    },
    {
      "cell_type": "code",
      "metadata": {
        "id": "hYzjqXxTTdzy"
      },
      "source": [
        "def generate_grid(a, b, h):\n",
        "  n = int(np.ceil((b - a)/h))\n",
        "  return np.linspace(a, b, num=n)"
      ],
      "execution_count": null,
      "outputs": []
    },
    {
      "cell_type": "code",
      "metadata": {
        "id": "sURQZYUCQBm2"
      },
      "source": [
        "gn = lambda x: x**2 - 3\n",
        "hn = lambda x: (x**2 - 3)*np.cos(x)\n",
        "fn = lambda x: 2 - 6*x + 2*x**3 + (x**2 - 3)*np.exp(x)*np.sin(x)*(1 + np.cos(x)) + np.cos(x) * (np.exp(x) - 1 + x**4 - 2*x**2)"
      ],
      "execution_count": null,
      "outputs": []
    },
    {
      "cell_type": "code",
      "metadata": {
        "id": "S5kkoT1xAkZu"
      },
      "source": [
        "a = 0\n",
        "b = math.pi"
      ],
      "execution_count": null,
      "outputs": []
    },
    {
      "cell_type": "code",
      "metadata": {
        "id": "CVlQqc9oAl8_"
      },
      "source": [
        "ya = 0\n",
        "yb = math.pi**2"
      ],
      "execution_count": null,
      "outputs": []
    },
    {
      "cell_type": "code",
      "metadata": {
        "id": "LCuKcV5nT_xN"
      },
      "source": [
        "tau = 0.01"
      ],
      "execution_count": null,
      "outputs": []
    },
    {
      "cell_type": "code",
      "metadata": {
        "id": "5v6tk1sUT45g"
      },
      "source": [
        "x = generate_grid(a, b, tau)"
      ],
      "execution_count": null,
      "outputs": []
    },
    {
      "cell_type": "code",
      "metadata": {
        "id": "t2I5ZACmUPzM"
      },
      "source": [
        "an = lambda x, h: 1 + gn(x)*h\n",
        "bn = lambda x, h: -2 - gn(x)*h + h**2 * hn(x)\n",
        "cn = 1\n",
        "dn = lambda x, h: h**2 * fn(x)"
      ],
      "execution_count": null,
      "outputs": []
    },
    {
      "cell_type": "code",
      "metadata": {
        "id": "XK5o3tsmS0dG"
      },
      "source": [
        "def my_solver(a, b, c, d):\n",
        "    n = len(d)\n",
        "    \n",
        "    x = np.zeros(n)\n",
        "    p = np.zeros(n)\n",
        "    q = np.zeros(n)\n",
        "    \n",
        "    p[1] = -c[0]/b[0]\n",
        "    q[1] = d[0]/b[0]\n",
        "    \n",
        "    for i in range(1, n-1):\n",
        "        p[i+1] = -c[i]/(a[i]*p[i] + b[i])\n",
        "        q[i+1] = (d[i] - a[i]*q[i])/(a[i]*p[i] + b[i])\n",
        "    x[n-1] = (d[n-1] - a[n-1]*q[n-1])/(p[n-1]*a[n-1] + b[n-1])\n",
        "    \n",
        "    for i in range(n-2, -1, -1):\n",
        "        x[i] = x[i+1]*p[i+1] + q[i+1]\n",
        "        \n",
        "    return x"
      ],
      "execution_count": null,
      "outputs": []
    },
    {
      "cell_type": "code",
      "metadata": {
        "colab": {
          "base_uri": "https://localhost:8080/"
        },
        "id": "hNy09mLiTHst",
        "outputId": "2e13a7e9-de89-4927-8949-8b84c0414505"
      },
      "source": [
        "n = int(np.ceil((b - a)/tau))\n",
        "print(n)\n",
        "print(len(x))"
      ],
      "execution_count": null,
      "outputs": [
        {
          "output_type": "stream",
          "text": [
            "315\n",
            "315\n"
          ],
          "name": "stdout"
        }
      ]
    },
    {
      "cell_type": "code",
      "metadata": {
        "colab": {
          "base_uri": "https://localhost:8080/"
        },
        "id": "tiWWJUasXjKj",
        "outputId": "550bec1b-561f-4adb-891f-bac935521cc0"
      },
      "source": [
        "a = [0] + [an(x[i], tau) for i in range(1, n-1)] + [0]\n",
        "b = [1] + [bn(x[i], tau) for i in range(1, n-1)] + [1]\n",
        "c = [0] + [cn for i in range(1, n-1)] + [0]\n",
        "d = [ya] + [dn(x[i], tau) for i in range(1, n-1)] + [yb]\n",
        "print(len(a))\n",
        "print(len(b))\n",
        "print(len(c))\n",
        "print(len(d))"
      ],
      "execution_count": null,
      "outputs": [
        {
          "output_type": "stream",
          "text": [
            "315\n",
            "315\n",
            "315\n",
            "315\n"
          ],
          "name": "stdout"
        }
      ]
    },
    {
      "cell_type": "code",
      "metadata": {
        "id": "1dGRR15Jezgj"
      },
      "source": [
        "y = my_solver(a, b, c, d)"
      ],
      "execution_count": null,
      "outputs": []
    },
    {
      "cell_type": "code",
      "metadata": {
        "colab": {
          "base_uri": "https://localhost:8080/",
          "height": 282
        },
        "id": "iHA3GSm9gFmJ",
        "outputId": "bd8d9be9-e68f-4e1f-d666-6124521d665c"
      },
      "source": [
        "plt.plot(x, y)"
      ],
      "execution_count": null,
      "outputs": [
        {
          "output_type": "execute_result",
          "data": {
            "text/plain": [
              "[<matplotlib.lines.Line2D at 0x7fa97649a4e0>]"
            ]
          },
          "metadata": {
            "tags": []
          },
          "execution_count": 27
        },
        {
          "output_type": "display_data",
          "data": {
            "image/png": "[encoded data removed]",
            "text/plain": [
              "<Figure size 432x288 with 1 Axes>"
            ]
          },
          "metadata": {
            "tags": [],
            "needs_background": "light"
          }
        }
      ]
    },
    {
      "cell_type": "code",
      "metadata": {
        "colab": {
          "base_uri": "https://localhost:8080/"
        },
        "id": "NNFtIsBx0zTv",
        "outputId": "8a29a593-4c7e-41eb-ccbf-b69cd5c4856b"
      },
      "source": [
        "for i in [0.5, 1, 1.5, 2, 2.5, 3]:\n",
        "  print(find_val(x, y, i))"
      ],
      "execution_count": null,
      "outputs": [
        {
          "output_type": "stream",
          "text": [
            "           x         y\n",
            "50  0.500254  3.159589\n",
            "            x         y\n",
            "100  1.000507  4.184467\n",
            "            x         y\n",
            "150  1.500761  3.899702\n",
            "            x         y\n",
            "200  2.001014  3.137254\n",
            "            x         y\n",
            "250  2.501268  3.361952\n",
            "            x         y\n",
            "300  3.001522  6.480457\n"
          ],
          "name": "stdout"
        }
      ]
    },
    {
      "cell_type": "code",
      "metadata": {
        "id": "wKrhP3wngITa"
      },
      "source": [
        "A = np.zeros((n, n))\n",
        "for i in range(n):\n",
        "  for j in range(n):\n",
        "    if j == i:\n",
        "      A[i, j] = b[i]\n",
        "    if j == i+1:\n",
        "      A[i, j] = c[i]\n",
        "    if j == i-1:\n",
        "      A[i, j] = a[i]"
      ],
      "execution_count": null,
      "outputs": []
    },
    {
      "cell_type": "code",
      "metadata": {
        "id": "z14cPj3B0URc"
      },
      "source": [
        "y = np.linalg.solve(A, d)"
      ],
      "execution_count": null,
      "outputs": []
    },
    {
      "cell_type": "code",
      "metadata": {
        "colab": {
          "base_uri": "https://localhost:8080/",
          "height": 282
        },
        "id": "KF6Qpvm90xQv",
        "outputId": "f12e7ec2-7bcf-4330-e6d6-16d49f90efeb"
      },
      "source": [
        "plt.plot(x, y)"
      ],
      "execution_count": null,
      "outputs": [
        {
          "output_type": "execute_result",
          "data": {
            "text/plain": [
              "[<matplotlib.lines.Line2D at 0x7f50dac1b630>]"
            ]
          },
          "metadata": {
            "tags": []
          },
          "execution_count": 170
        },
        {
          "output_type": "display_data",
          "data": {
            "image/png": "[encoded data removed]",
            "text/plain": [
              "<Figure size 432x288 with 1 Axes>"
            ]
          },
          "metadata": {
            "tags": [],
            "needs_background": "light"
          }
        }
      ]
    },
    {
      "cell_type": "code",
      "metadata": {
        "id": "1e5YQJNa4vzO"
      },
      "source": [
        ""
      ],
      "execution_count": null,
      "outputs": []
    }
  ]
}