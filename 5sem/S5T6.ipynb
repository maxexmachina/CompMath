{
  "nbformat": 4,
  "nbformat_minor": 0,
  "metadata": {
    "colab": {
      "name": "T6.ipynb",
      "provenance": [],
      "collapsed_sections": []
    },
    "kernelspec": {
      "name": "python3",
      "display_name": "Python 3"
    }
  },
  "cells": [
    {
      "cell_type": "code",
      "metadata": {
        "id": "8WKFdTLLHY6B"
      },
      "source": [
        "import math\n",
        "import numpy as np\n",
        "import matplotlib.pyplot as plt\n",
        "import pandas as pd"
      ],
      "execution_count": null,
      "outputs": []
    },
    {
      "cell_type": "code",
      "metadata": {
        "id": "mIG2IEIpHbJF"
      },
      "source": [
        "gam = 6.67e-11\n",
        "rc = 1e7\n",
        "M = 5.99e24\n",
        "R = 6.38e6"
      ],
      "execution_count": null,
      "outputs": []
    },
    {
      "cell_type": "code",
      "metadata": {
        "id": "-PH2zrT-Kx0I"
      },
      "source": [
        "calc_r = lambda x, y: math.sqrt(x**2 + y**2)"
      ],
      "execution_count": null,
      "outputs": []
    },
    {
      "cell_type": "code",
      "metadata": {
        "colab": {
          "base_uri": "https://localhost:8080/"
        },
        "id": "QfH_mnWBK5_C",
        "outputId": "636d4365-185d-47c2-9834-597815f72922"
      },
      "source": [
        "vc = math.sqrt(gam*M/rc)\n",
        "print(vc)"
      ],
      "execution_count": null,
      "outputs": [
        {
          "output_type": "stream",
          "text": [
            "6320.862282948427\n"
          ],
          "name": "stdout"
        }
      ]
    },
    {
      "cell_type": "code",
      "metadata": {
        "id": "hnkOFcYpQDxm"
      },
      "source": [
        "def f(t, y):\n",
        "  return np.array([\n",
        "                   y[1],\n",
        "                   -gam*M*y[0]/calc_r(y[0], y[2])**3,\n",
        "                   y[3],\n",
        "                   -gam*M*y[2]/calc_r(y[0], y[2])**3\n",
        "                  ])"
      ],
      "execution_count": null,
      "outputs": []
    },
    {
      "cell_type": "code",
      "metadata": {
        "id": "U81lNFBBOJgT"
      },
      "source": [
        "u = 400\n",
        "y0 = [\n",
        "      rc,\n",
        "      0,\n",
        "      0,\n",
        "      vc - u\n",
        "]"
      ],
      "execution_count": null,
      "outputs": []
    },
    {
      "cell_type": "code",
      "metadata": {
        "id": "BUcBpSbpOa06"
      },
      "source": [
        "a = 0\n",
        "b = 10000"
      ],
      "execution_count": null,
      "outputs": []
    },
    {
      "cell_type": "code",
      "metadata": {
        "id": "LXM2x4roOh5F"
      },
      "source": [
        "h = 1"
      ],
      "execution_count": null,
      "outputs": []
    },
    {
      "cell_type": "markdown",
      "metadata": {
        "id": "rqa6eL1MV6wR"
      },
      "source": [
        "# Классический метод Рунге-Кутты"
      ]
    },
    {
      "cell_type": "code",
      "metadata": {
        "id": "_WN8dQkdOTL3"
      },
      "source": [
        "def rk_solve(a, b, h, y0):\n",
        "\n",
        "  n = int(np.ceil((b-a)/h))\n",
        "  t = np.linspace(a, b, num=n)\n",
        "\n",
        "  y = np.array([np.zeros(n) for i in range(len(y0))])\n",
        "  y[:, 0] = y0\n",
        "\n",
        "  k = np.array([np.zeros(4) for i in range(len(y0))])\n",
        "\n",
        "  for i in range(n - 1):\n",
        "\n",
        "    k[:, 0] = f(t[i], y[:, i])\n",
        "    k[:, 1] = 2 * f(t[i] + h/2, y[:, i] + h/2 * k[:, 0])\n",
        "    k[:, 2] = 2 * f(t[i] + h/2, y[:, i] + h/2 * k[:, 1])\n",
        "    k[:, 3] = f(t[i] + h, y[:, i] + h * k[:, 2])\n",
        "\n",
        "    y[:, i+1] = y[:, i] + 1/6 * h * np.sum(k, axis=1)\n",
        "\n",
        "  return t, y"
      ],
      "execution_count": null,
      "outputs": []
    },
    {
      "cell_type": "code",
      "metadata": {
        "id": "KTSbeoW5PFBS"
      },
      "source": [
        "t, [x, vx, y, vy] = rk_solve(a, b, h, y0)"
      ],
      "execution_count": null,
      "outputs": []
    },
    {
      "cell_type": "code",
      "metadata": {
        "colab": {
          "base_uri": "https://localhost:8080/",
          "height": 289
        },
        "id": "1r87KJC7PQNU",
        "outputId": "e6ba295b-dcb5-4d96-d505-43410e913f19"
      },
      "source": [
        "figure, axes = plt.subplots()\n",
        "draw_circle = plt.Circle((0, 0), R)\n",
        "axes.plot(x, y)\n",
        "axes.set_aspect(1)\n",
        "axes.add_artist(draw_circle)\n",
        "axes.set_ylim(-1.1e7, 1.1e7)\n",
        "axes.set_xlim(-1.1e7, 1.1e7)\n",
        "plt.show()"
      ],
      "execution_count": null,
      "outputs": [
        {
          "output_type": "display_data",
          "data": {
            "image/png": "[encoded data removed]",
            "text/plain": [
              "<Figure size 432x288 with 1 Axes>"
            ]
          },
          "metadata": {
            "tags": [],
            "needs_background": "light"
          }
        }
      ]
    },
    {
      "cell_type": "code",
      "metadata": {
        "id": "A_3h03PPI9Nh"
      },
      "source": [
        "def find_val(x, y, t, point, col, num=1):\n",
        "  dat = {'x': x, 'y': y, 't':t}\n",
        "  df = pd.DataFrame(data=dat)\n",
        "\n",
        "  return df.iloc[(df[col]-point).abs().argsort()[:num]]"
      ],
      "execution_count": null,
      "outputs": []
    },
    {
      "cell_type": "code",
      "metadata": {
        "id": "AohAI_dNQWWh"
      },
      "source": [
        "def find_period(x, y, t):\n",
        "  dat = {'x': x, 'y': y, 't':t}\n",
        "  df = pd.DataFrame(data=dat)\n",
        "  df = df[df['x'] > 0]\n",
        "  res = list(df.iloc[(df['y']-0).abs().argsort()[:2]].t)\n",
        "  return res[1]"
      ],
      "execution_count": null,
      "outputs": []
    },
    {
      "cell_type": "code",
      "metadata": {
        "colab": {
          "base_uri": "https://localhost:8080/"
        },
        "id": "-KOfsGbWQ8TI",
        "outputId": "74b26655-8b6b-4326-d9a6-fc8cf7d4ac4d"
      },
      "source": [
        "find_period(x, y, t)"
      ],
      "execution_count": null,
      "outputs": [
        {
          "output_type": "execute_result",
          "data": {
            "text/plain": [
              "8317.831783178317"
            ]
          },
          "metadata": {
            "tags": []
          },
          "execution_count": 14
        }
      ]
    },
    {
      "cell_type": "code",
      "metadata": {
        "id": "epbQHet9KthD"
      },
      "source": [
        "def find_a(x, y, t):\n",
        "  dat = {'x': x, 'y': y, 't':t}\n",
        "  df = pd.DataFrame(data=dat)\n",
        "  df = df[df['x'] < 0]\n",
        "  res = list(df.iloc[(df['y']-0).abs().argsort()[:2]].x)\n",
        "  return abs(rc - res[0])/2"
      ],
      "execution_count": null,
      "outputs": []
    },
    {
      "cell_type": "code",
      "metadata": {
        "colab": {
          "base_uri": "https://localhost:8080/"
        },
        "id": "s8dcxjF8SjX1",
        "outputId": "04ff96cf-cd55-4a08-fc68-8dbb6b338125"
      },
      "source": [
        "print(find_a(x, y, t))"
      ],
      "execution_count": null,
      "outputs": [
        {
          "output_type": "stream",
          "text": [
            "8896653.128993036\n"
          ],
          "name": "stdout"
        }
      ]
    },
    {
      "cell_type": "code",
      "metadata": {
        "id": "mp7S4YvYLNXM"
      },
      "source": [
        "def kepler_err(x, y, t):\n",
        "  T = find_period(x, y, t)\n",
        "  a = find_a(x, y, t)\n",
        "  return abs(T - 2*math.pi*pow(a, 3/2)/math.sqrt(gam*M))"
      ],
      "execution_count": null,
      "outputs": []
    },
    {
      "cell_type": "code",
      "metadata": {
        "colab": {
          "base_uri": "https://localhost:8080/"
        },
        "id": "r65_ECNtL08Z",
        "outputId": "1943ccc0-1beb-4061-eee5-2908605fc344"
      },
      "source": [
        "print(kepler_err(x, y, t))"
      ],
      "execution_count": null,
      "outputs": [
        {
          "output_type": "stream",
          "text": [
            "23.656181770751573\n"
          ],
          "name": "stdout"
        }
      ]
    },
    {
      "cell_type": "code",
      "metadata": {
        "colab": {
          "base_uri": "https://localhost:8080/"
        },
        "id": "8Whg_DNPMbO-",
        "outputId": "b1348f6d-d225-4864-bb36-7cc7735f19d2"
      },
      "source": [
        "errs = []\n",
        "for h in [10, 5, 1, 0.5, 0.1, 0.01]:\n",
        "  t, [x, vx, y, vy] = rk_solve(a, b, h, y0)\n",
        "  errs.append(kepler_err(x, y, t))\n",
        "print(errs)"
      ],
      "execution_count": null,
      "outputs": [
        {
          "output_type": "stream",
          "text": [
            "[238.34803770424242, 117.61196848965847, 23.656181770751573, 12.195228037870038, 2.4326697509568476, 0.24176132358479663]\n"
          ],
          "name": "stdout"
        }
      ]
    },
    {
      "cell_type": "code",
      "metadata": {
        "colab": {
          "base_uri": "https://localhost:8080/"
        },
        "id": "yRgC9HvjUPHL",
        "outputId": "9a2462a3-3b86-426d-9fa2-22ff25eef4fd"
      },
      "source": [
        "for ui in range(735, 745):\n",
        "\n",
        "  y0 = [\n",
        "      rc,\n",
        "      0,\n",
        "      0,\n",
        "      vc - ui\n",
        "  ]\n",
        "\n",
        "  a = 0\n",
        "  b = 10000\n",
        "\n",
        "  h = 0.1\n",
        "  t, [x, vx, y, vy] = rk_solve(a, b, h, y0)\n",
        "  axis = find_a(x, y, t)\n",
        "  print(ui, 2*axis < (rc + R))"
      ],
      "execution_count": null,
      "outputs": [
        {
          "output_type": "stream",
          "text": [
            "735 False\n",
            "736 False\n",
            "737 False\n",
            "738 False\n",
            "739 False\n",
            "740 False\n",
            "741 False\n",
            "742 True\n",
            "743 True\n",
            "744 True\n"
          ],
          "name": "stdout"
        }
      ]
    },
    {
      "cell_type": "code",
      "metadata": {
        "id": "JZeKeuUlNn9Q"
      },
      "source": [
        "  y0 = [\n",
        "      rc,\n",
        "      0,\n",
        "      0,\n",
        "      vc - 742\n",
        "  ]\n",
        "\n",
        "  a = 0\n",
        "  b = 10000\n",
        "\n",
        "  h = 0.1\n",
        "  t, [x, vx, y, vy] = rk_solve(a, b, h, y0)"
      ],
      "execution_count": null,
      "outputs": []
    },
    {
      "cell_type": "code",
      "metadata": {
        "id": "VCgDlOYhNv7u",
        "colab": {
          "base_uri": "https://localhost:8080/",
          "height": 289
        },
        "outputId": "29cb6fa4-1c4d-4311-a10e-5c4df8ca761d"
      },
      "source": [
        "figure, axes = plt.subplots()\n",
        "draw_circle = plt.Circle((0, 0), R)\n",
        "axes.plot(x, y)\n",
        "axes.set_aspect(1)\n",
        "axes.add_artist(draw_circle)\n",
        "axes.set_ylim(-1.1e7, 1.1e7)\n",
        "axes.set_xlim(-1.1e7, 1.1e7)\n",
        "plt.show()"
      ],
      "execution_count": null,
      "outputs": [
        {
          "output_type": "display_data",
          "data": {
            "image/png": "[encoded data removed]",
            "text/plain": [
              "<Figure size 432x288 with 1 Axes>"
            ]
          },
          "metadata": {
            "tags": [],
            "needs_background": "light"
          }
        }
      ]
    },
    {
      "cell_type": "markdown",
      "metadata": {
        "id": "_kAgno18V2re"
      },
      "source": [
        "# Явный метод Эйлера"
      ]
    },
    {
      "cell_type": "code",
      "metadata": {
        "id": "0xMvWCPYhg8j"
      },
      "source": [
        "u = 745\n",
        "y0 = [\n",
        "      rc,\n",
        "      0,\n",
        "      0,\n",
        "      vc - u\n",
        "]"
      ],
      "execution_count": null,
      "outputs": []
    },
    {
      "cell_type": "code",
      "metadata": {
        "id": "BsTxLYbIhjGU"
      },
      "source": [
        "a = 0\n",
        "b = 10000"
      ],
      "execution_count": null,
      "outputs": []
    },
    {
      "cell_type": "code",
      "metadata": {
        "id": "xxepiHvihkoI"
      },
      "source": [
        "h = 0.1"
      ],
      "execution_count": null,
      "outputs": []
    },
    {
      "cell_type": "code",
      "metadata": {
        "id": "N8TzCkTiVAPH"
      },
      "source": [
        "def step(y, t, h):\n",
        "  return y + h * f(t, y)\n",
        "\n",
        "def explicit_euler(a, b, h, y0):\n",
        "\n",
        "  n = int(np.ceil((b-a)/h))\n",
        "  t = np.linspace(a, b, num=n+1)\n",
        "\n",
        "  y = np.array([np.zeros(n+1) for i in range(len(y0))])\n",
        "  y[:, 0] = y0\n",
        "\n",
        "  for i in range(n):\n",
        "    ynew = step(y[:, i], t[i], h)\n",
        "    y[:, i + 1] = ynew\n",
        "\n",
        "  return t, y"
      ],
      "execution_count": null,
      "outputs": []
    },
    {
      "cell_type": "code",
      "metadata": {
        "id": "olpzKsPGkvzl"
      },
      "source": [
        "t, [x, vx, y, vy] = explicit_euler(a, b, h, y0)"
      ],
      "execution_count": null,
      "outputs": []
    },
    {
      "cell_type": "code",
      "metadata": {
        "colab": {
          "base_uri": "https://localhost:8080/",
          "height": 289
        },
        "id": "vZ3156K3k2ze",
        "outputId": "d9af69f5-cfff-48bf-a199-39715706face"
      },
      "source": [
        "figure, axes = plt.subplots()\n",
        "draw_circle = plt.Circle((0, 0), R)\n",
        "axes.plot(x, y)\n",
        "axes.set_aspect(1)\n",
        "axes.add_artist(draw_circle)\n",
        "axes.set_ylim(-1.1e7, 1.1e7)\n",
        "axes.set_xlim(-1.1e7, 1.1e7)\n",
        "plt.show()"
      ],
      "execution_count": null,
      "outputs": [
        {
          "output_type": "display_data",
          "data": {
            "image/png": "[encoded data removed]",
            "text/plain": [
              "<Figure size 432x288 with 1 Axes>"
            ]
          },
          "metadata": {
            "tags": [],
            "needs_background": "light"
          }
        }
      ]
    },
    {
      "cell_type": "code",
      "metadata": {
        "id": "H8SSF4GJrfuY"
      },
      "source": [
        ""
      ],
      "execution_count": null,
      "outputs": []
    }
  ]
}