{
  "nbformat": 4,
  "nbformat_minor": 0,
  "metadata": {
    "colab": {
      "name": "T1.ipynb",
      "provenance": [],
      "collapsed_sections": []
    },
    "kernelspec": {
      "display_name": "Python 3",
      "language": "python",
      "name": "python3"
    },
    "language_info": {
      "codemirror_mode": {
        "name": "ipython",
        "version": 3
      },
      "file_extension": ".py",
      "mimetype": "text/x-python",
      "name": "python",
      "nbconvert_exporter": "python",
      "pygments_lexer": "ipython3",
      "version": "3.7.6"
    }
  },
  "cells": [
    {
      "cell_type": "code",
      "metadata": {
        "id": "HAWGakJENTjA"
      },
      "source": [
        "import math\n",
        "import numpy as np"
      ],
      "execution_count": null,
      "outputs": []
    },
    {
      "cell_type": "code",
      "metadata": {
        "id": "laJ2Sk_NQbAh"
      },
      "source": [
        "def iter_fun_y_1(x, y):\n",
        "    return -np.sqrt(1 - x**2)"
      ],
      "execution_count": null,
      "outputs": []
    },
    {
      "cell_type": "code",
      "metadata": {
        "id": "4T6FALw82DMn"
      },
      "source": [
        "def iter_fun_y_2(x, y):\n",
        "    return np.sqrt(1 - x**2)"
      ],
      "execution_count": null,
      "outputs": []
    },
    {
      "cell_type": "code",
      "metadata": {
        "id": "feJBW7wRN8Hy"
      },
      "source": [
        "def iter_fun_x(x, y):\n",
        "    return math.atan(y)"
      ],
      "execution_count": null,
      "outputs": []
    },
    {
      "cell_type": "code",
      "metadata": {
        "id": "WiQ-kRWtOHoX"
      },
      "source": [
        "def locate(x_start, y_start, fun_x, fun_y, eps=1e-6):\n",
        "    x = x_start\n",
        "    y = y_start\n",
        "    while True:\n",
        "        x_prev = x\n",
        "        y_prev = y\n",
        "        x = fun_x(x_prev, y_prev)\n",
        "        y = fun_y(x, y_prev)\n",
        "        if (x - x_prev) < eps/2 and (y - y_prev) < eps/2:\n",
        "            break\n",
        "    return x, y"
      ],
      "execution_count": null,
      "outputs": []
    },
    {
      "cell_type": "code",
      "metadata": {
        "colab": {
          "base_uri": "https://localhost:8080/",
          "height": 50
        },
        "id": "JrsrtxU-O9sp",
        "outputId": "e5bc54c8-bfe4-4f49-d710-f27350ab16ff"
      },
      "source": [
        "x, y = locate(-0.5, -0.5, iter_fun_x, iter_fun_y_1)\n",
        "print(x)\n",
        "print(y)"
      ],
      "execution_count": null,
      "outputs": [
        {
          "output_type": "stream",
          "text": [
            "-0.6498890617915842\n",
            "-0.7600290832354077\n"
          ],
          "name": "stdout"
        }
      ]
    },
    {
      "cell_type": "code",
      "metadata": {
        "id": "s8q-oVflPI8W",
        "outputId": "43146ff9-566d-4097-8f64-6226275bdab3"
      },
      "source": [
        "x1, y1 = locate(0.5, 0.5, iter_fun_x, iter_fun_y_2)\n",
        "print(x1)\n",
        "print(y1)"
      ],
      "execution_count": null,
      "outputs": [
        {
          "output_type": "stream",
          "text": [
            "0.6498890617915842\n",
            "0.7600290832354077\n"
          ],
          "name": "stdout"
        }
      ]
    },
    {
      "cell_type": "code",
      "metadata": {
        "id": "Hkyz1vKr2DMp"
      },
      "source": [
        ""
      ],
      "execution_count": null,
      "outputs": []
    }
  ]
}