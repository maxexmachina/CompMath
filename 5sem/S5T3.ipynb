{
  "nbformat": 4,
  "nbformat_minor": 0,
  "metadata": {
    "colab": {
      "name": "T3.ipynb",
      "provenance": [],
      "collapsed_sections": []
    },
    "kernelspec": {
      "display_name": "Python 3",
      "language": "python",
      "name": "python3"
    },
    "language_info": {
      "codemirror_mode": {
        "name": "ipython",
        "version": 3
      },
      "file_extension": ".py",
      "mimetype": "text/x-python",
      "name": "python",
      "nbconvert_exporter": "python",
      "pygments_lexer": "ipython3",
      "version": "3.7.6"
    }
  },
  "cells": [
    {
      "cell_type": "code",
      "metadata": {
        "id": "RBNHgIMgQUCw"
      },
      "source": [
        "import math\n",
        "import numpy as np"
      ],
      "execution_count": null,
      "outputs": []
    },
    {
      "cell_type": "code",
      "metadata": {
        "id": "Y5meNAPrQYkb"
      },
      "source": [
        "def fun(x):\n",
        "    return np.sin(100*x) * np.e**(-x**2) * np.cos(2*x)"
      ],
      "execution_count": null,
      "outputs": []
    },
    {
      "cell_type": "markdown",
      "metadata": {
        "id": "li-SfNcPZooF"
      },
      "source": [
        "**Newton - Cotes Formulae**"
      ]
    },
    {
      "cell_type": "code",
      "metadata": {
        "id": "9WSlfviuQaTq"
      },
      "source": [
        "def simpson(a, b, f):\n",
        "    return (b-a)*(f(a) + 4*f((a + b)/2) + f(b))/6"
      ],
      "execution_count": null,
      "outputs": []
    },
    {
      "cell_type": "code",
      "metadata": {
        "id": "MUt5o4NeYDdh"
      },
      "source": [
        "def trapezoid(a, b, f):\n",
        "    return (b-a) * (f(a) + f(b)) / 2"
      ],
      "execution_count": null,
      "outputs": []
    },
    {
      "cell_type": "code",
      "metadata": {
        "id": "K73-sShgYUoy"
      },
      "source": [
        "def three_eight(a, b, f):\n",
        "    return (b - a) * (f(a) + 3 * f((2*a + b)/3) + 3 * f((a + 2*b)/3) + f(b)) / 8"
      ],
      "execution_count": null,
      "outputs": []
    },
    {
      "cell_type": "code",
      "metadata": {
        "id": "42j0q90KU5sC"
      },
      "source": [
        "def integrate(a, b, f, h, meth):\n",
        "    res = 0\n",
        "    n = math.ceil((b-a)/h)\n",
        "\n",
        "    for i in range(n):\n",
        "        x1 = a + i * h\n",
        "        x2 = x1 + h\n",
        "        res += meth(x1, x2, f)\n",
        "    return res"
      ],
      "execution_count": null,
      "outputs": []
    },
    {
      "cell_type": "markdown",
      "metadata": {
        "id": "ZLfFLClwdiAU"
      },
      "source": [
        "**Gaussian Quadratures**"
      ]
    },
    {
      "cell_type": "code",
      "metadata": {
        "id": "OPJz2AVakGbL"
      },
      "source": [
        "from scipy.special.orthogonal import p_roots"
      ],
      "execution_count": null,
      "outputs": []
    },
    {
      "cell_type": "code",
      "metadata": {
        "id": "_g0umk9XeA9D"
      },
      "source": [
        "def gauss(a, b, f, n):\n",
        "    x, w = p_roots(n)\n",
        "    return (1/2*(b-a) * sum(w * f((a+b)/2 + (b-2)/2*x)))"
      ],
      "execution_count": null,
      "outputs": []
    },
    {
      "cell_type": "markdown",
      "metadata": {
        "id": "vTvraAFXnKI7"
      },
      "source": [
        "**Testing**"
      ]
    },
    {
      "cell_type": "code",
      "metadata": {
        "id": "PIe_w3Fr2dtc"
      },
      "source": [
        "#Task3"
      ],
      "execution_count": null,
      "outputs": []
    },
    {
      "cell_type": "code",
      "metadata": {
        "id": "f3c0TjcRcABZ"
      },
      "source": [
        "res = integrate(0, 3, fun, 0.001, simpson)"
      ],
      "execution_count": null,
      "outputs": []
    },
    {
      "cell_type": "code",
      "metadata": {
        "colab": {
          "base_uri": "https://localhost:8080/",
          "height": 34
        },
        "id": "B3f9e_aIcFex",
        "outputId": "c14e2c13-82d6-4c84-c4f1-7b0901a1b06f"
      },
      "source": [
        "print(res)"
      ],
      "execution_count": null,
      "outputs": [
        {
          "output_type": "stream",
          "text": [
            "0.010006098208277194\n"
          ],
          "name": "stdout"
        }
      ]
    },
    {
      "cell_type": "code",
      "metadata": {
        "id": "Qv0jaKay2dte"
      },
      "source": [
        ""
      ],
      "execution_count": null,
      "outputs": []
    }
  ]
}